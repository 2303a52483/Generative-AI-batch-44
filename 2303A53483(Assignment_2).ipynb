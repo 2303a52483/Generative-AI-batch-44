{
  "nbformat": 4,
  "nbformat_minor": 0,
  "metadata": {
    "colab": {
      "provenance": [],
      "authorship_tag": "ABX9TyMBj6f5lVUSMIaw0D0XvEzI",
      "include_colab_link": true
    },
    "kernelspec": {
      "name": "python3",
      "display_name": "Python 3"
    },
    "language_info": {
      "name": "python"
    }
  },
  "cells": [
    {
      "cell_type": "markdown",
      "metadata": {
        "id": "view-in-github",
        "colab_type": "text"
      },
      "source": [
        "<a href=\"https://colab.research.google.com/github/2303a52483/Generative-AI-batch-44/blob/main/2303A53483(Assignment_2).ipynb\" target=\"_parent\"><img src=\"https://colab.research.google.com/assets/colab-badge.svg\" alt=\"Open In Colab\"/></a>"
      ]
    },
    {
      "cell_type": "code",
      "source": [
        "from scipy.optimize import linprog\n",
        "c = [-6, -5]\n",
        "A = [\n",
        "    [1, 1],\n",
        "    [3, 2]\n",
        "]\n",
        "b = [5, 12]\n",
        "x_bounds = (0, None)\n",
        "y_bounds = (0, None)\n",
        "result = linprog(c, A_ub=A, b_ub=b, bounds=[x_bounds, y_bounds], method='highs')\n",
        "if result.success:\n",
        "    print(f\"Optimal number of A (x): {result.x[0]}\")\n",
        "    print(f\"Optimal number of B (y): {result.x[1]}\")\n",
        "    print(f\"Maximum profit: {-result.fun}\")\n",
        "else:\n",
        "    print(\"No solution found.\")\n"
      ],
      "metadata": {
        "colab": {
          "base_uri": "https://localhost:8080/"
        },
        "id": "vOn-KfL-RjCh",
        "outputId": "bf1a30c2-af1e-454e-ccdc-35e47eaa1f2b"
      },
      "execution_count": null,
      "outputs": [
        {
          "output_type": "stream",
          "name": "stdout",
          "text": [
            "Optimal number of A (x): 2.0\n",
            "Optimal number of B (y): 3.0\n",
            "Maximum profit: 27.0\n"
          ]
        }
      ]
    },
    {
      "cell_type": "code",
      "source": [
        "from scipy.optimize import linprog\n",
        "c = [-50, -120]\n",
        "A = [\n",
        "    [7000,2000],\n",
        "    [10,30]\n",
        "]\n",
        "b = [700000, 1200]\n",
        "x_bounds = (0, None)\n",
        "y_bounds = (0, None)\n",
        "result = linprog(c, A_ub=A, b_ub=b, bounds=[x_bounds, y_bounds], method='highs')\n",
        "if result.success:\n",
        "    print(f\"Optimal number of A (x): {result.x[0]}\")\n",
        "    print(f\"Optimal number of B (y): {result.x[1]}\")\n",
        "    print(f\"Maximum profit: {-result.fun}\")\n",
        "else:\n",
        "    print(\"No solution found.\")"
      ],
      "metadata": {
        "colab": {
          "base_uri": "https://localhost:8080/"
        },
        "id": "x_29IETZhLlN",
        "outputId": "776c9ded-ac63-4cd6-e4b5-b585a296491f"
      },
      "execution_count": null,
      "outputs": [
        {
          "output_type": "stream",
          "name": "stdout",
          "text": [
            "Optimal number of A (x): 97.89473684210526\n",
            "Optimal number of B (y): 7.368421052631579\n",
            "Maximum profit: 5778.9473684210525\n"
          ]
        }
      ]
    }
  ]
}