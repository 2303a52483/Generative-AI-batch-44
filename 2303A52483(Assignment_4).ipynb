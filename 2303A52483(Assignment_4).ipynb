{
  "nbformat": 4,
  "nbformat_minor": 0,
  "metadata": {
    "colab": {
      "provenance": [],
      "authorship_tag": "ABX9TyN9HmlIeifGB/q92WYDS5xM",
      "include_colab_link": true
    },
    "kernelspec": {
      "name": "python3",
      "display_name": "Python 3"
    },
    "language_info": {
      "name": "python"
    }
  },
  "cells": [
    {
      "cell_type": "markdown",
      "metadata": {
        "id": "view-in-github",
        "colab_type": "text"
      },
      "source": [
        "<a href=\"https://colab.research.google.com/github/2303a52483/Generative-AI-batch-44/blob/main/2303A52483(Assignment_4).ipynb\" target=\"_parent\"><img src=\"https://colab.research.google.com/assets/colab-badge.svg\" alt=\"Open In Colab\"/></a>"
      ]
    },
    {
      "cell_type": "code",
      "execution_count": 1,
      "metadata": {
        "colab": {
          "base_uri": "https://localhost:8080/"
        },
        "id": "LLynay7SdLXL",
        "outputId": "1d0fbfbe-4c54-4dab-bdf0-6b9cd036024b"
      },
      "outputs": [
        {
          "output_type": "stream",
          "name": "stdout",
          "text": [
            "Training MSE: 0.0018611390483877018\n",
            "Test MSE: 0.006700650433682235\n",
            "Enter x1: 78\n",
            "Enter x2: 87\n",
            "Enter x3: 89\n",
            "Predicted output: [51.75737481]\n"
          ]
        }
      ],
      "source": [
        "import numpy as np\n",
        "X_train = np.array([[0.1, 0.2, 0.3], [0.2, 0.3, 0.4], [0.3, 0.4, 0.5], [0.5, 0.6, 0.7],\n",
        "                    [0.1, 0.3, 0.5], [0.2, 0.4, 0.6], [0.3, 0.5, 0.7], [0.4, 0.6, 0.8],\n",
        "                    [0.5, 0.7, 0.1]])\n",
        "y_train = np.array([0.14, 0.2, 0.26, 0.38, 0.22, 0.28, 0.34, 0.4, 0.22])\n",
        "X_test = np.array([[0.6, 0.7, 0.8], [0.7, 0.8, 0.9]])\n",
        "y_test = np.array([0.44, 0.5])\n",
        "w = np.random.randn(3)\n",
        "b = np.random.randn(1)\n",
        "\n",
        "\n",
        "learning_rate = 0.01\n",
        "iterations = 10000\n",
        "\n",
        "def predict(X, w, b):\n",
        "    return np.dot(X, w) + b\n",
        "\n",
        "def mean_squared_error(y_true, y_pred):\n",
        "    return np.mean((y_true - y_pred) ** 2)\n",
        "\n",
        "for _ in range(iterations):\n",
        "    y_pred = predict(X_train, w, b)\n",
        "    error = y_pred - y_train\n",
        "    grad_w = (2 / X_train.shape[0]) * np.dot(X_train.T, error)\n",
        "    grad_b = (2 / X_train.shape[0]) * np.sum(error)\n",
        "\n",
        "    w -= learning_rate * grad_w\n",
        "    b -= learning_rate * grad_b\n",
        "\n",
        "y_train_pred = predict(X_train, w, b)\n",
        "y_test_pred = predict(X_test, w, b)\n",
        "\n",
        "train_mse = mean_squared_error(y_train, y_train_pred)\n",
        "test_mse = mean_squared_error(y_test, y_test_pred)\n",
        "\n",
        "print(\"Training MSE:\", train_mse)\n",
        "print(\"Test MSE:\", test_mse)\n",
        "\n",
        "def predict_new_data():\n",
        "    x1 = float(input(\"Enter x1: \"))\n",
        "    x2 = float(input(\"Enter x2: \"))\n",
        "    x3 = float(input(\"Enter x3: \"))\n",
        "    new_data = np.array([x1, x2, x3]).reshape(1, -1)\n",
        "    prediction = predict(new_data, w, b)\n",
        "    print(\"Predicted output:\", prediction)\n",
        "predict_new_data()"
      ]
    },
    {
      "cell_type": "code",
      "source": [
        "import numpy as np\n",
        "def sigmoid(x):\n",
        "    return 1 / (1 + np.exp(-x))\n",
        "def sigmoid_derivative(x):\n",
        "    return x * (1 - x)\n",
        "X_train = np.array([\n",
        "    [0.1, 0.2, 0.3],\n",
        "    [0.2, 0.3, 0.4],\n",
        "    [0.3, 0.4, 0.5],\n",
        "    [0.5, 0.6, 0.7],\n",
        "    [0.1, 0.3, 0.5],\n",
        "    [0.2, 0.4, 0.6],\n",
        "    [0.3, 0.5, 0.7],\n",
        "    [0.4, 0.6, 0.8],\n",
        "    [0.5, 0.7, 0.1]\n",
        "])\n",
        "y_train = np.array([0.5349, 0.5498, 0.5646, 0.5939, 0.5548, 0.5695, 0.5842, 0.5987, 0.5548])\n",
        "X_test = np.array([\n",
        "    [0.6, 0.7, 0.8],\n",
        "    [0.7, 0.8, 0.9]\n",
        "])\n",
        "y_test = np.array([0.6083, 0.6225])\n",
        "np.random.seed(42)\n",
        "weights = np.random.randn(3) * 0.01\n",
        "bias = 0.0\n",
        "learning_rate = 0.01\n",
        "epochs = 1000\n",
        "for epoch in range(epochs):\n",
        "    y_pred = sigmoid(np.dot(X_train, weights) + bias)\n",
        "    error = y_pred - y_train\n",
        "    dW = np.dot(X_train.T, error * sigmoid_derivative(y_pred)) / len(y_train)\n",
        "    dB = np.mean(error * sigmoid_derivative(y_pred))\n",
        "    weights -= learning_rate * dW\n",
        "    bias -= learning_rate * dB\n",
        "    mse = np.mean(error ** 2)\n",
        "    if epoch % 100 == 0:\n",
        "        print(f\"Epoch {epoch}: MSE = {mse:.5f}\")\n",
        "y_test_pred = sigmoid(np.dot(X_test, weights) + bias)\n",
        "test_mse = np.mean((y_test_pred - y_test) ** 2)\n",
        "print(f\"Final Test MSE: {test_mse:.5f}\")\n",
        "def predict():\n",
        "    x_input = np.array([float(input(f\"Enter x{i+1}: \")) for i in range(3)])\n",
        "    output = sigmoid(np.dot(x_input, weights) + bias)\n",
        "    print(f\"Predicted Output: {output:.5f}\")"
      ],
      "metadata": {
        "colab": {
          "base_uri": "https://localhost:8080/"
        },
        "id": "H9t08845fOIH",
        "outputId": "a4677fcc-cf8c-474f-cba8-e173d5ffcc37"
      },
      "execution_count": 2,
      "outputs": [
        {
          "output_type": "stream",
          "name": "stdout",
          "text": [
            "Epoch 0: MSE = 0.00478\n",
            "Epoch 100: MSE = 0.00396\n",
            "Epoch 200: MSE = 0.00328\n",
            "Epoch 300: MSE = 0.00273\n",
            "Epoch 400: MSE = 0.00228\n",
            "Epoch 500: MSE = 0.00190\n",
            "Epoch 600: MSE = 0.00159\n",
            "Epoch 700: MSE = 0.00134\n",
            "Epoch 800: MSE = 0.00113\n",
            "Epoch 900: MSE = 0.00096\n",
            "Final Test MSE: 0.00358\n"
          ]
        }
      ]
    }
  ]
}