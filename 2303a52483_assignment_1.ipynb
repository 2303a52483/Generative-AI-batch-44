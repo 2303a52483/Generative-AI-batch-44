{
  "nbformat": 4,
  "nbformat_minor": 0,
  "metadata": {
    "colab": {
      "provenance": [],
      "authorship_tag": "ABX9TyMgMpIoqZyGaAYzcbIOK1Cp",
      "include_colab_link": true
    },
    "kernelspec": {
      "name": "python3",
      "display_name": "Python 3"
    },
    "language_info": {
      "name": "python"
    }
  },
  "cells": [
    {
      "cell_type": "markdown",
      "metadata": {
        "id": "view-in-github",
        "colab_type": "text"
      },
      "source": [
        "<a href=\"https://colab.research.google.com/github/2303a52483/Generative-AI-batch-44/blob/main/2303a52483_assignment_1.ipynb\" target=\"_parent\"><img src=\"https://colab.research.google.com/assets/colab-badge.svg\" alt=\"Open In Colab\"/></a>"
      ]
    },
    {
      "cell_type": "code",
      "execution_count": null,
      "metadata": {
        "colab": {
          "base_uri": "https://localhost:8080/"
        },
        "id": "WgI0kMHlQ7jZ",
        "outputId": "d9c88e10-7d3a-44a7-8cb6-f1fbba19654b"
      },
      "outputs": [
        {
          "output_type": "stream",
          "name": "stdout",
          "text": [
            "Mean_Square_error\n",
            "0.24600000000000147\n"
          ]
        }
      ],
      "source": [
        "import numpy as np\n",
        "Y= np.array([20, 30, 40, 50, 60])\n",
        "Yp= np.array([20.5, 30.3, 40.2, 50.6, 60.7])\n",
        "MSE=np.mean((Y-Yp)**2)\n",
        "print(\"Mean_Square_error:\")\n",
        "print(MSE)\n",
        "\n"
      ]
    },
    {
      "cell_type": "code",
      "source": [
        "MAE=np.mean(np.abs(Y-Yp))\n",
        "print(\"Mean_Absolute_error:\")\n",
        "print(MAE)"
      ],
      "metadata": {
        "colab": {
          "base_uri": "https://localhost:8080/"
        },
        "id": "-5ApxAsCS4bU",
        "outputId": "b35c76b3-7476-461d-c99b-9ac6a9ee9f0d"
      },
      "execution_count": null,
      "outputs": [
        {
          "output_type": "stream",
          "name": "stdout",
          "text": [
            "Mean_Absolute_error:\n",
            "0.4600000000000016\n"
          ]
        }
      ]
    },
    {
      "cell_type": "code",
      "source": [
        "RMSE=np.sqrt(np.mean((Y-Yp)**2))\n",
        "print(\"Root_Mean_Square_error:\")\n",
        "print(RMSE)"
      ],
      "metadata": {
        "colab": {
          "base_uri": "https://localhost:8080/"
        },
        "id": "YOrQyvpkTAwa",
        "outputId": "4229c992-d8d1-436d-97e1-8a9bc77534f8"
      },
      "execution_count": null,
      "outputs": [
        {
          "output_type": "stream",
          "name": "stdout",
          "text": [
            "Root_Mean_Square_error:\n",
            "0.49598387070549127\n"
          ]
        }
      ]
    },
    {
      "cell_type": "code",
      "source": [
        "from sklearn.metrics import mean_squared_error\n",
        "MSE=mean_squared_error(Y,Yp)\n",
        "print(\"Mean_Square_error:\")\n",
        "print(MSE)"
      ],
      "metadata": {
        "colab": {
          "base_uri": "https://localhost:8080/"
        },
        "id": "-AAnsvXjUU7l",
        "outputId": "2a9a7171-5d7c-4f83-b95f-7870265bc273"
      },
      "execution_count": null,
      "outputs": [
        {
          "output_type": "stream",
          "name": "stdout",
          "text": [
            "Mean_Square_error:\n",
            "0.24600000000000147\n"
          ]
        }
      ]
    },
    {
      "cell_type": "code",
      "source": [
        "from sklearn.metrics import mean_absolute_error\n",
        "MAE=mean_absolute_error(Y,Yp)\n",
        "print(\"Mean_Absolute_error:\")\n",
        "print(MAE)"
      ],
      "metadata": {
        "colab": {
          "base_uri": "https://localhost:8080/"
        },
        "id": "u76py74GUgW_",
        "outputId": "69f57046-1957-4cfd-8f57-29c6bc46c658"
      },
      "execution_count": null,
      "outputs": [
        {
          "output_type": "stream",
          "name": "stdout",
          "text": [
            "Mean_Absolute_error:\n",
            "0.4600000000000016\n"
          ]
        }
      ]
    },
    {
      "cell_type": "code",
      "source": [
        "from sklearn import metrics\n",
        "RMSE=np.sqrt(metrics.mean_squared_error(Y,Yp))\n",
        "print(\"Root_Mean_Square_error:\")\n",
        "print(RMSE)"
      ],
      "metadata": {
        "colab": {
          "base_uri": "https://localhost:8080/"
        },
        "id": "JmsIEj06UpFS",
        "outputId": "0fde3051-0777-4b33-c9f8-9cb0a4969e0a"
      },
      "execution_count": null,
      "outputs": [
        {
          "output_type": "stream",
          "name": "stdout",
          "text": [
            "Root_Mean_Square_error:\n",
            "0.49598387070549127\n"
          ]
        }
      ]
    }
  ]
}