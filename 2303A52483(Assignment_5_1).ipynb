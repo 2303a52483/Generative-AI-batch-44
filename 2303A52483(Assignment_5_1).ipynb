{
  "nbformat": 4,
  "nbformat_minor": 0,
  "metadata": {
    "colab": {
      "provenance": [],
      "authorship_tag": "ABX9TyOsaB4KC5fv47jJrsyZei3g",
      "include_colab_link": true
    },
    "kernelspec": {
      "name": "python3",
      "display_name": "Python 3"
    },
    "language_info": {
      "name": "python"
    }
  },
  "cells": [
    {
      "cell_type": "markdown",
      "metadata": {
        "id": "view-in-github",
        "colab_type": "text"
      },
      "source": [
        "<a href=\"https://colab.research.google.com/github/2303a52483/Generative-AI-batch-44/blob/main/2303A52483(Assignment_5_1).ipynb\" target=\"_parent\"><img src=\"https://colab.research.google.com/assets/colab-badge.svg\" alt=\"Open In Colab\"/></a>"
      ]
    },
    {
      "cell_type": "code",
      "execution_count": 1,
      "metadata": {
        "colab": {
          "base_uri": "https://localhost:8080/"
        },
        "id": "VjnsMVXok1vW",
        "outputId": "9d83e927-a2e6-4d72-a972-e859b98bdd90"
      },
      "outputs": [
        {
          "output_type": "stream",
          "name": "stdout",
          "text": [
            "Epoch 0: MSE = 0.12546\n",
            "Epoch 100: MSE = 0.00385\n",
            "Epoch 200: MSE = 0.00032\n",
            "Epoch 300: MSE = 0.00022\n",
            "Epoch 400: MSE = 0.00022\n",
            "Epoch 500: MSE = 0.00022\n",
            "Epoch 600: MSE = 0.00022\n",
            "Epoch 700: MSE = 0.00022\n",
            "Epoch 800: MSE = 0.00022\n",
            "Epoch 900: MSE = 0.00022\n",
            "Final Test MSE: 0.00001\n"
          ]
        }
      ],
      "source": [
        "import numpy as np\n",
        "def sigmoid(x):\n",
        "    return 1 / (1 + np.exp(-x))\n",
        "def sigmoid_derivative(x):\n",
        "    return x * (1 - x)\n",
        "X_train = np.array([\n",
        "    [0.1, 0.2],\n",
        "    [0.2, 0.3],\n",
        "    [0.3, 0.4],\n",
        "    [0.6, 0.7],\n",
        "    [0.7, 0.8],\n",
        "    [0.8, 0.9]\n",
        "])\n",
        "y_train = np.array([0.3432, 0.3490, 0.3548, 0.3720, 0.3776, 0.3832])\n",
        "X_test = np.array([\n",
        "    [0.4, 0.5],\n",
        "    [0.5, 0.6]\n",
        "])\n",
        "y_test = np.array([0.3606, 0.3663])\n",
        "np.random.seed(42)\n",
        "input_size = 2\n",
        "hidden_size = 3\n",
        "output_size = 1\n",
        "\n",
        "W1 = np.random.randn(input_size, hidden_size) * 0.01\n",
        "b1 = np.zeros((1, hidden_size))\n",
        "W2 = np.random.randn(hidden_size, output_size) * 0.01\n",
        "b2 = np.zeros((1, output_size))\n",
        "learning_rate = 0.01\n",
        "epochs = 1000\n",
        "for epoch in range(epochs):\n",
        "    hidden_layer_input = np.dot(X_train, W1) + b1\n",
        "    hidden_layer_output = sigmoid(hidden_layer_input)\n",
        "    output_layer_input = np.dot(hidden_layer_output, W2) + b2\n",
        "    y_pred = output_layer_input\n",
        "    error = y_pred.flatten() - y_train\n",
        "    dW2 = np.dot(hidden_layer_output.T, error.reshape(-1, 1)) / len(y_train)\n",
        "    dB2 = np.mean(error)\n",
        "    d_hidden = np.dot(error.reshape(-1, 1), W2.T) * sigmoid_derivative(hidden_layer_output)\n",
        "    dW1 = np.dot(X_train.T, d_hidden) / len(y_train)\n",
        "    dB1 = np.mean(d_hidden, axis=0)\n",
        "    W2 -= learning_rate * dW2\n",
        "    b2 -= learning_rate * dB2\n",
        "    W1 -= learning_rate * dW1\n",
        "    b1 -= learning_rate * dB1\n",
        "    mse = np.mean(error ** 2)\n",
        "\n",
        "    if epoch % 100 == 0:\n",
        "        print(f\"Epoch {epoch}: MSE = {mse:.5f}\")\n",
        "hidden_layer_input_test = np.dot(X_test, W1) + b1\n",
        "hidden_layer_output_test = sigmoid(hidden_layer_input_test)\n",
        "output_layer_input_test = np.dot(hidden_layer_output_test, W2) + b2\n",
        "y_test_pred = output_layer_input_test.flatten()\n",
        "test_mse = np.mean((y_test_pred - y_test) ** 2)\n",
        "print(f\"Final Test MSE: {test_mse:.5f}\")\n",
        "def predict():\n",
        "    x_input = np.array([float(input(f\"Enter x{i+1}: \")) for i in range(2)]).reshape(1, -1)\n",
        "    hidden_layer_input = np.dot(x_input, W1) + b1\n",
        "    hidden_layer_output = sigmoid(hidden_layer_input)\n",
        "    output_layer_input = np.dot(hidden_layer_output, W2) + b2\n",
        "    output = output_layer_input.flatten()[0]\n",
        "    print(f\"Predicted Output: {output:.5f}\")\n"
      ]
    }
  ]
}