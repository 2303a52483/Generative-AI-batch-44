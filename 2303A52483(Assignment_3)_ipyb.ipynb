{
  "nbformat": 4,
  "nbformat_minor": 0,
  "metadata": {
    "colab": {
      "provenance": [],
      "authorship_tag": "ABX9TyPoIBZD8lrSQe04jzNYnztr",
      "include_colab_link": true
    },
    "kernelspec": {
      "name": "python3",
      "display_name": "Python 3"
    },
    "language_info": {
      "name": "python"
    }
  },
  "cells": [
    {
      "cell_type": "markdown",
      "metadata": {
        "id": "view-in-github",
        "colab_type": "text"
      },
      "source": [
        "<a href=\"https://colab.research.google.com/github/2303a52483/Generative-AI-batch-44/blob/main/2303A52483(Assignment_3)_ipyb.ipynb\" target=\"_parent\"><img src=\"https://colab.research.google.com/assets/colab-badge.svg\" alt=\"Open In Colab\"/></a>"
      ]
    },
    {
      "cell_type": "code",
      "execution_count": null,
      "metadata": {
        "colab": {
          "base_uri": "https://localhost:8080/"
        },
        "id": "XhBed3zkOuVy",
        "outputId": "5d04299e-8b0b-4333-aab9-5f2c56a4070d"
      },
      "outputs": [
        {
          "output_type": "stream",
          "name": "stdout",
          "text": [
            "Iteration 1: x = 1.8280, f(x) = 75.8557\n",
            "Iteration 2: x = 1.6949, f(x) = 59.8758\n",
            "Iteration 3: x = 1.5873, f(x) = 49.3005\n",
            "Iteration 4: x = 1.4978, f(x) = 41.8953\n",
            "Iteration 5: x = 1.4216, f(x) = 36.4852\n",
            "Iteration 6: x = 1.3556, f(x) = 32.3993\n",
            "Iteration 7: x = 1.2977, f(x) = 29.2301\n",
            "Iteration 8: x = 1.2462, f(x) = 26.7173\n",
            "Iteration 9: x = 1.2000, f(x) = 24.6878\n",
            "Iteration 10: x = 1.1582, f(x) = 23.0228\n",
            "Minimum value of f(x) is approximately at x = 1.1582\n"
          ]
        }
      ],
      "source": [
        "import numpy as np\n",
        "def f(x):\n",
        "    return 5 * x**4 + 3 * x**2 + 10\n",
        "\n",
        "def gradient(x):\n",
        "    return 20 * x**3 + 6 * x\n",
        "learning_rate = 0.001\n",
        "num_iterations = 10\n",
        "x = 2\n",
        "for i in range(num_iterations):\n",
        "    grad = gradient(x)\n",
        "    x = x - learning_rate * grad\n",
        "    print(f\"Iteration {i+1}: x = {x:.4f}, f(x) = {f(x):.4f}\")\n",
        "\n",
        "print(f\"Minimum value of f(x) is approximately at x = {x:.4f}\")"
      ]
    },
    {
      "cell_type": "code",
      "source": [
        "import numpy as np\n",
        "def f(x):\n",
        "    return 3*x**2 + 5*np.exp(-y) + 10\n",
        "\n",
        "def gradient(x):\n",
        "    return 6*x\n",
        "def gradient(y):\n",
        "  return -5*np.exp(-y)\n",
        "\n",
        "learning_rate = 0.001\n",
        "num_iterations = 10\n",
        "x = 2\n",
        "y=2\n",
        "for i in range(num_iterations):\n",
        "    grad1 = gradient(x)\n",
        "    grad2=gradient(y)\n",
        "    x = x - learning_rate * grad1\n",
        "    y=y-learning_rate*grad2\n",
        "    print(f\"Iteration {i+1}: x = {x:.4f}, f(x) = {f(x):.4f}\")\n",
        "    print(f\"Iteration {i+1}: y = {y:.4f}, f(y) = {f(y):.4f}\")\n",
        "print(f\"Minimum value of f(x) is approximately at x = {x:.4f}\")\n",
        "print(f\"Minimum value of f(y) is approximately at y = {y:.4f}\")\n"
      ],
      "metadata": {
        "colab": {
          "base_uri": "https://localhost:8080/"
        },
        "id": "PhHzk1Q0X2Gk",
        "outputId": "b102834e-9fa5-4273-c51a-1cb67990931b"
      },
      "execution_count": null,
      "outputs": [
        {
          "output_type": "stream",
          "name": "stdout",
          "text": [
            "Iteration 1: x = 2.0007, f(x) = 22.6843\n",
            "Iteration 1: y = 2.0007, f(y) = 22.6843\n",
            "Iteration 2: x = 2.0014, f(x) = 22.6920\n",
            "Iteration 2: y = 2.0014, f(y) = 22.6920\n",
            "Iteration 3: x = 2.0020, f(x) = 22.6997\n",
            "Iteration 3: y = 2.0020, f(y) = 22.6997\n",
            "Iteration 4: x = 2.0027, f(x) = 22.7073\n",
            "Iteration 4: y = 2.0027, f(y) = 22.7073\n",
            "Iteration 5: x = 2.0034, f(x) = 22.7150\n",
            "Iteration 5: y = 2.0034, f(y) = 22.7150\n",
            "Iteration 6: x = 2.0041, f(x) = 22.7226\n",
            "Iteration 6: y = 2.0041, f(y) = 22.7226\n",
            "Iteration 7: x = 2.0047, f(x) = 22.7303\n",
            "Iteration 7: y = 2.0047, f(y) = 22.7303\n",
            "Iteration 8: x = 2.0054, f(x) = 22.7379\n",
            "Iteration 8: y = 2.0054, f(y) = 22.7379\n",
            "Iteration 9: x = 2.0061, f(x) = 22.7456\n",
            "Iteration 9: y = 2.0061, f(y) = 22.7456\n",
            "Iteration 10: x = 2.0067, f(x) = 22.7532\n",
            "Iteration 10: y = 2.0067, f(y) = 22.7532\n",
            "Minimum value of f(x) is approximately at x = 2.0067\n",
            "Minimum value of f(y) is approximately at y = 2.0067\n"
          ]
        }
      ]
    },
    {
      "cell_type": "code",
      "source": [
        "import numpy as np\n",
        "def f(x):\n",
        "    return 1 / (1 + np.exp(-x))\n",
        "\n",
        "def gradient(x):\n",
        "    return 1*np.exp(-x)/(1+np.exp(-x))**2\n",
        "learning_rate = 0.001\n",
        "num_iterations = 10\n",
        "x = 2\n",
        "for i in range(num_iterations):\n",
        "    grad = gradient(x)\n",
        "    x = x - learning_rate * grad\n",
        "    print(f\"Iteration {i+1}: x = {x:.4f}, f(x) = {f(x):.4f}\")\n",
        "\n",
        "print(f\"Minimum value of f(x) is approximately at x = {x:.4f}\")"
      ],
      "metadata": {
        "colab": {
          "base_uri": "https://localhost:8080/"
        },
        "id": "daepNsOTcXvb",
        "outputId": "bc441bb8-9ddf-4204-c76e-74e4ac60569d"
      },
      "execution_count": null,
      "outputs": [
        {
          "output_type": "stream",
          "name": "stdout",
          "text": [
            "Iteration 1: x = 1.9999, f(x) = 0.8808\n",
            "Iteration 2: x = 1.9998, f(x) = 0.8808\n",
            "Iteration 3: x = 1.9997, f(x) = 0.8808\n",
            "Iteration 4: x = 1.9996, f(x) = 0.8808\n",
            "Iteration 5: x = 1.9995, f(x) = 0.8807\n",
            "Iteration 6: x = 1.9994, f(x) = 0.8807\n",
            "Iteration 7: x = 1.9993, f(x) = 0.8807\n",
            "Iteration 8: x = 1.9992, f(x) = 0.8807\n",
            "Iteration 9: x = 1.9991, f(x) = 0.8807\n",
            "Iteration 10: x = 1.9989, f(x) = 0.8807\n",
            "Minimum value of f(x) is approximately at x = 1.9989\n"
          ]
        }
      ]
    }
  ]
}